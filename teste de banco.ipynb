{
 "cells": [
  {
   "cell_type": "markdown",
   "metadata": {},
   "source": [
    "# Inteligência Artificial - Aprendizado de Máquina\n",
    "Grupo: \\\n",
    "Bruno Vinícius de Morais Bicudo - 2022011505 \\\n",
    "Leandro Balta Braga - 2022004260 \\\n",
    "Letícia Vitória dos Santos - 2022002542 \\\n",
    "Lucas Oliveira Ramos de Souza - 2022004860 \\\n",
    "Pedro Anicio Dornelas Moraes - 2022012790 "
   ]
  },
  {
   "cell_type": "markdown",
   "metadata": {},
   "source": [
    "### 1) Descrição do conjunto de dado selecionado para o estudo."
   ]
  },
  {
   "cell_type": "markdown",
   "metadata": {},
   "source": [
    "### 2) AGRUPAMENTO - Análise da aplicação do modelo K-médias (sklearn.cluster.KMeans)"
   ]
  },
  {
   "cell_type": "markdown",
   "metadata": {},
   "source": [
    "### 3) CLASSIFICAÇÃO- Análise da aplicação do modelo MLP - rede neural de múltiplas camadas (sklearn.neural_network.MLPClassifier)"
   ]
  },
  {
   "cell_type": "markdown",
   "metadata": {},
   "source": [
    "### 4) Avaliação dos resultados obtidos."
   ]
  },
  {
   "cell_type": "code",
   "execution_count": 6,
   "metadata": {},
   "outputs": [
    {
     "name": "stdout",
     "output_type": "stream",
     "text": [
      "Requirement already satisfied: ucimlrepo in c:\\users\\pedro anicio\\appdata\\local\\programs\\python\\python313\\lib\\site-packages (0.0.7)\n",
      "Requirement already satisfied: pandas>=1.0.0 in c:\\users\\pedro anicio\\appdata\\local\\programs\\python\\python313\\lib\\site-packages (from ucimlrepo) (2.2.3)\n",
      "Requirement already satisfied: certifi>=2020.12.5 in c:\\users\\pedro anicio\\appdata\\local\\programs\\python\\python313\\lib\\site-packages (from ucimlrepo) (2024.8.30)\n",
      "Requirement already satisfied: numpy>=1.26.0 in c:\\users\\pedro anicio\\appdata\\local\\programs\\python\\python313\\lib\\site-packages (from pandas>=1.0.0->ucimlrepo) (2.1.3)\n",
      "Requirement already satisfied: python-dateutil>=2.8.2 in c:\\users\\pedro anicio\\appdata\\roaming\\python\\python313\\site-packages (from pandas>=1.0.0->ucimlrepo) (2.9.0.post0)\n",
      "Requirement already satisfied: pytz>=2020.1 in c:\\users\\pedro anicio\\appdata\\local\\programs\\python\\python313\\lib\\site-packages (from pandas>=1.0.0->ucimlrepo) (2024.2)\n",
      "Requirement already satisfied: tzdata>=2022.7 in c:\\users\\pedro anicio\\appdata\\local\\programs\\python\\python313\\lib\\site-packages (from pandas>=1.0.0->ucimlrepo) (2024.2)\n",
      "Requirement already satisfied: six>=1.5 in c:\\users\\pedro anicio\\appdata\\roaming\\python\\python313\\site-packages (from python-dateutil>=2.8.2->pandas>=1.0.0->ucimlrepo) (1.16.0)\n",
      "Note: you may need to restart the kernel to use updated packages.\n"
     ]
    },
    {
     "name": "stderr",
     "output_type": "stream",
     "text": [
      "\n",
      "[notice] A new release of pip is available: 24.2 -> 24.3.1\n",
      "[notice] To update, run: python.exe -m pip install --upgrade pip\n"
     ]
    }
   ],
   "source": [
    "pip install ucimlrepo"
   ]
  },
  {
   "cell_type": "markdown",
   "metadata": {},
   "source": [
    "# Banco de dados utilizado\n",
    "https://archive.ics.uci.edu/dataset/320/student+performance"
   ]
  },
  {
   "cell_type": "code",
   "execution_count": 7,
   "metadata": {},
   "outputs": [
    {
     "name": "stdout",
     "output_type": "stream",
     "text": [
      "          name     role         type      demographic  \\\n",
      "0       school  Feature  Categorical             None   \n",
      "1          sex  Feature       Binary              Sex   \n",
      "2          age  Feature      Integer              Age   \n",
      "3      address  Feature  Categorical             None   \n",
      "4      famsize  Feature  Categorical            Other   \n",
      "5      Pstatus  Feature  Categorical            Other   \n",
      "6         Medu  Feature      Integer  Education Level   \n",
      "7         Fedu  Feature      Integer  Education Level   \n",
      "8         Mjob  Feature  Categorical       Occupation   \n",
      "9         Fjob  Feature  Categorical       Occupation   \n",
      "10      reason  Feature  Categorical             None   \n",
      "11    guardian  Feature  Categorical             None   \n",
      "12  traveltime  Feature      Integer             None   \n",
      "13   studytime  Feature      Integer             None   \n",
      "14    failures  Feature      Integer             None   \n",
      "15   schoolsup  Feature       Binary             None   \n",
      "16      famsup  Feature       Binary             None   \n",
      "17        paid  Feature       Binary             None   \n",
      "18  activities  Feature       Binary             None   \n",
      "19     nursery  Feature       Binary             None   \n",
      "20      higher  Feature       Binary             None   \n",
      "21    internet  Feature       Binary             None   \n",
      "22    romantic  Feature       Binary             None   \n",
      "23      famrel  Feature      Integer             None   \n",
      "24    freetime  Feature      Integer             None   \n",
      "25       goout  Feature      Integer             None   \n",
      "26        Dalc  Feature      Integer             None   \n",
      "27        Walc  Feature      Integer             None   \n",
      "28      health  Feature      Integer             None   \n",
      "29    absences  Feature      Integer             None   \n",
      "30          G1   Target  Categorical             None   \n",
      "31          G2   Target  Categorical             None   \n",
      "32          G3   Target      Integer             None   \n",
      "\n",
      "                                          description units missing_values  \n",
      "0   student's school (binary: 'GP' - Gabriel Perei...  None             no  \n",
      "1   student's sex (binary: 'F' - female or 'M' - m...  None             no  \n",
      "2              student's age (numeric: from 15 to 22)  None             no  \n",
      "3   student's home address type (binary: 'U' - urb...  None             no  \n",
      "4   family size (binary: 'LE3' - less or equal to ...  None             no  \n",
      "5   parent's cohabitation status (binary: 'T' - li...  None             no  \n",
      "6   mother's education (numeric: 0 - none,  1 - pr...  None             no  \n",
      "7   father's education (numeric: 0 - none,  1 - pr...  None             no  \n",
      "8   mother's job (nominal: 'teacher', 'health' car...  None             no  \n",
      "9   father's job (nominal: 'teacher', 'health' car...  None             no  \n",
      "10  reason to choose this school (nominal: close t...  None             no  \n",
      "11  student's guardian (nominal: 'mother', 'father...  None             no  \n",
      "12  home to school travel time (numeric: 1 - <15 m...  None             no  \n",
      "13  weekly study time (numeric: 1 - <2 hours, 2 - ...  None             no  \n",
      "14  number of past class failures (numeric: n if 1...  None             no  \n",
      "15      extra educational support (binary: yes or no)  None             no  \n",
      "16     family educational support (binary: yes or no)  None             no  \n",
      "17  extra paid classes within the course subject (...  None             no  \n",
      "18    extra-curricular activities (binary: yes or no)  None             no  \n",
      "19        attended nursery school (binary: yes or no)  None             no  \n",
      "20  wants to take higher education (binary: yes or...  None             no  \n",
      "21        Internet access at home (binary: yes or no)  None             no  \n",
      "22   with a romantic relationship (binary: yes or no)  None             no  \n",
      "23  quality of family relationships (numeric: from...  None             no  \n",
      "24  free time after school (numeric: from 1 - very...  None             no  \n",
      "25  going out with friends (numeric: from 1 - very...  None             no  \n",
      "26  workday alcohol consumption (numeric: from 1 -...  None             no  \n",
      "27  weekend alcohol consumption (numeric: from 1 -...  None             no  \n",
      "28  current health status (numeric: from 1 - very ...  None             no  \n",
      "29  number of school absences (numeric: from 0 to 93)  None             no  \n",
      "30         first period grade (numeric: from 0 to 20)  None             no  \n",
      "31        second period grade (numeric: from 0 to 20)  None             no  \n",
      "32  final grade (numeric: from 0 to 20, output tar...  None             no  \n"
     ]
    }
   ],
   "source": [
    "from ucimlrepo import fetch_ucirepo \n",
    "  \n",
    "# fetch dataset \n",
    "student_performance = fetch_ucirepo(id=320) \n",
    "  \n",
    "# data (as pandas dataframes) \n",
    "estudanteFeat = student_performance.data.features \n",
    "estudanteTarg = student_performance.data.targets \n",
    "  \n",
    "# variable information \n",
    "print(student_performance.variables) \n"
   ]
  },
  {
   "cell_type": "code",
   "execution_count": 10,
   "metadata": {},
   "outputs": [
    {
     "name": "stdout",
     "output_type": "stream",
     "text": [
      "{'_is_copy': <weakref at 0x0000023AAFD367F0; to 'pandas.core.frame.DataFrame' at 0x0000023AC061DE80>, '_mgr': BlockManager\n",
      "Items: Index(['school', 'sex', 'age', 'address', 'famsize', 'Pstatus', 'Medu', 'Fedu',\n",
      "       'Mjob', 'Fjob', 'reason', 'guardian', 'traveltime', 'studytime',\n",
      "       'failures', 'schoolsup', 'famsup', 'paid', 'activities', 'nursery',\n",
      "       'higher', 'internet', 'romantic', 'famrel', 'freetime', 'goout', 'Dalc',\n",
      "       'Walc', 'health', 'absences'],\n",
      "      dtype='object')\n",
      "Axis 1: RangeIndex(start=0, stop=649, step=1)\n",
      "NumpyBlock: [ 0  1  3  4  5  8  9 10 11 15 16 17 18 19 20 21 22], 17 x 649, dtype: object\n",
      "NumpyBlock: [ 2  6  7 12 13 14 23 24 25 26 27 28 29], 13 x 649, dtype: int64, '_item_cache': {}, '_attrs': {}, '_flags': <Flags(allows_duplicate_labels=True)>}\n"
     ]
    }
   ],
   "source": [
    "# print(estudanteFeat.head())\n",
    "# print(estudanteTarg['G1'])\n",
    "print(estudanteFeat.__dict__)"
   ]
  },
  {
   "cell_type": "markdown",
   "metadata": {},
   "source": [
    "## Quais sao os atributos no banco\n",
    "| Atributo      | Descrição                                                                                                                                         |\n",
    "|---------------|-----------------------------------------------------------------------------------------------------------------------------------------------------|\n",
    "| **school**    | Qual das escolas ele está                                                                                                                         |\n",
    "| **sex**       | Sexo da pessoa (F ou M)                                                                                                                           |\n",
    "| **age**       | Idade (está entre 15 a 22)                                                                                                                        |\n",
    "| **address**   | Se vive em local urbano ou rural (U ou R)                                                                                                         |\n",
    "| **famsize**   | Tamanho da família: menor ou igual a 3 membros ('LE3' - menor ou igual a 3, 'GT3' - maior que 3)                                                   |\n",
    "| **Pstatus**   | Vive junto ou separado da família (T - junto, A - separado)                                                                                       |\n",
    "| **Medu**      | Nível de educação do pai (0 - nenhum, 1 - até 5º ano, 2 - do 5º ao 9º ano, 3 - ensino médio, 4 - ensino superior)                                  |\n",
    "| **Fedu**      | Nível de educação da mãe (0 - nenhum, 1 - até 5º ano, 2 - do 5º ao 9º ano, 3 - ensino médio, 4 - ensino superior)                                  |\n",
    "| **Mjob**      | Emprego do pai ('teacher' - professor, 'health' - área médica, 'services' - serviços civis, 'at_home' - em casa, 'other' - outros)                 |\n",
    "| **Fjob**      | Emprego da mãe ('teacher' - professor, 'health' - área médica, 'services' - serviços civis, 'at_home' - em casa, 'other' - outros)                 |\n",
    "| **reason**    | Razão por escolher a escola ('home' - proximidade, 'reputation' - reputação da escola, 'course' - preferência pelo curso ou 'other')               |\n",
    "| **guardian**  | Guardião do estudante ('mother', 'father' ou 'other')                                                                                              |\n",
    "| **traveltime**| Tempo de viagem até a escola (1 - <15 min., 2 - 15 a 30 min., 3 - 30 min. a 1h, 4 - >1h)                                                           |\n",
    "| **studytime** | Tempo semanal de estudo (1 - <2h, 2 - 2 a 5h, 3 - 5 a 10h, 4 - >10h)                                                                               |\n",
    "| **failures**  | Número de classes falhadas (n se 1<=n<3, ou 4)                                                                                                     |\n",
    "| **schoolsup** | Suporte educacional externo ('yes' ou 'no')                                                                                                       |\n",
    "| **famsup**    | Suporte educacional da família ('yes' ou 'no')                                                                                                    |\n",
    "| **paid**      | Paga aulas externas ('yes' ou 'no')                                                                                                               |\n",
    "| **activities**| Participa de atividades extra-curriculares ('yes' ou 'no')                                                                                        |\n",
    "| **nursery**   | Estudou em creche ('yes' ou 'no')                                                                                                                 |\n",
    "| **higher**    | Deseja cursar ensino superior ('yes' ou 'no')                                                                                                     |\n",
    "| **internet**  | Possui acesso à internet em casa ('yes' ou 'no')                                                                                                  |\n",
    "| **romantic**  | Está em um relacionamento ('yes' ou 'no')                                                                                                        |\n",
    "| **famrel**    | Qualidade de relacionamento com os pais (1 - muito ruim a 5 - excelente)                                                                          |\n",
    "| **freetime**  | Tempo livre após a escola (1 - muito pouco a 5 - bastante)                                                                                         |\n",
    "| **goout**     | Frequência de sair com os amigos (1 - muito pouco a 5 - bastante)                                                                                  |\n",
    "| **Dalc**      | Consumo de álcool durante a semana (1 - muito pouco a 5 - bastante)                                                                                |\n",
    "| **Walc**      | Consumo de álcool no final de semana (1 - muito pouco a 5 - bastante)                                                                              |\n",
    "| **health**    | Estado de saúde atual (1 - muito ruim a 5 - excelente)                                                                                            |\n",
    "| **absences**  | Número de faltas escolares (0 a 93)                                                                                                               |"
   ]
  },
  {
   "cell_type": "markdown",
   "metadata": {},
   "source": [
    "## Quais sao as medidas no banco\n",
    "| Atributo | Descrição                                 |\n",
    "|----------|-------------------------------------------|\n",
    "| **G1**   | Notas no 1° trimestre escolar (0 a 20)    |\n",
    "| **G2**   | Notas no 2° trimestre escolar (0 a 20)    |\n",
    "| **G3**   | Notas no 3° trimestre escolar (0 a 20)    |"
   ]
  },
  {
   "cell_type": "code",
   "execution_count": 1,
   "metadata": {},
   "outputs": [
    {
     "name": "stdout",
     "output_type": "stream",
     "text": [
      "Collecting scikit-learn\n",
      "  Downloading scikit_learn-1.5.2-cp313-cp313-win_amd64.whl.metadata (13 kB)\n",
      "Collecting seaborn\n",
      "  Downloading seaborn-0.13.2-py3-none-any.whl.metadata (5.4 kB)\n",
      "Requirement already satisfied: matplotlib in c:\\users\\pedro anicio\\appdata\\local\\programs\\python\\python313\\lib\\site-packages (3.9.2)\n",
      "Requirement already satisfied: numpy>=1.19.5 in c:\\users\\pedro anicio\\appdata\\local\\programs\\python\\python313\\lib\\site-packages (from scikit-learn) (2.1.3)\n",
      "Collecting scipy>=1.6.0 (from scikit-learn)\n",
      "  Downloading scipy-1.14.1-cp313-cp313-win_amd64.whl.metadata (60 kB)\n",
      "Collecting joblib>=1.2.0 (from scikit-learn)\n",
      "  Downloading joblib-1.4.2-py3-none-any.whl.metadata (5.4 kB)\n",
      "Collecting threadpoolctl>=3.1.0 (from scikit-learn)\n",
      "  Downloading threadpoolctl-3.5.0-py3-none-any.whl.metadata (13 kB)\n",
      "Requirement already satisfied: pandas>=1.2 in c:\\users\\pedro anicio\\appdata\\local\\programs\\python\\python313\\lib\\site-packages (from seaborn) (2.2.3)\n",
      "Requirement already satisfied: contourpy>=1.0.1 in c:\\users\\pedro anicio\\appdata\\local\\programs\\python\\python313\\lib\\site-packages (from matplotlib) (1.3.1)\n",
      "Requirement already satisfied: cycler>=0.10 in c:\\users\\pedro anicio\\appdata\\local\\programs\\python\\python313\\lib\\site-packages (from matplotlib) (0.12.1)\n",
      "Requirement already satisfied: fonttools>=4.22.0 in c:\\users\\pedro anicio\\appdata\\local\\programs\\python\\python313\\lib\\site-packages (from matplotlib) (4.55.0)\n",
      "Requirement already satisfied: kiwisolver>=1.3.1 in c:\\users\\pedro anicio\\appdata\\local\\programs\\python\\python313\\lib\\site-packages (from matplotlib) (1.4.7)\n",
      "Requirement already satisfied: packaging>=20.0 in c:\\users\\pedro anicio\\appdata\\roaming\\python\\python313\\site-packages (from matplotlib) (24.2)\n",
      "Requirement already satisfied: pillow>=8 in c:\\users\\pedro anicio\\appdata\\local\\programs\\python\\python313\\lib\\site-packages (from matplotlib) (11.0.0)\n",
      "Requirement already satisfied: pyparsing>=2.3.1 in c:\\users\\pedro anicio\\appdata\\local\\programs\\python\\python313\\lib\\site-packages (from matplotlib) (3.2.0)\n",
      "Requirement already satisfied: python-dateutil>=2.7 in c:\\users\\pedro anicio\\appdata\\roaming\\python\\python313\\site-packages (from matplotlib) (2.9.0.post0)\n",
      "Requirement already satisfied: pytz>=2020.1 in c:\\users\\pedro anicio\\appdata\\local\\programs\\python\\python313\\lib\\site-packages (from pandas>=1.2->seaborn) (2024.2)\n",
      "Requirement already satisfied: tzdata>=2022.7 in c:\\users\\pedro anicio\\appdata\\local\\programs\\python\\python313\\lib\\site-packages (from pandas>=1.2->seaborn) (2024.2)\n",
      "Requirement already satisfied: six>=1.5 in c:\\users\\pedro anicio\\appdata\\roaming\\python\\python313\\site-packages (from python-dateutil>=2.7->matplotlib) (1.16.0)\n",
      "Downloading scikit_learn-1.5.2-cp313-cp313-win_amd64.whl (11.0 MB)\n",
      "   ---------------------------------------- 0.0/11.0 MB ? eta -:--:--\n",
      "   - -------------------------------------- 0.5/11.0 MB 3.8 MB/s eta 0:00:03\n",
      "   ---- ----------------------------------- 1.3/11.0 MB 3.5 MB/s eta 0:00:03\n",
      "   ------- -------------------------------- 2.1/11.0 MB 3.5 MB/s eta 0:00:03\n",
      "   --------- ------------------------------ 2.6/11.0 MB 3.4 MB/s eta 0:00:03\n",
      "   ----------- ---------------------------- 3.1/11.0 MB 3.4 MB/s eta 0:00:03\n",
      "   ------------- -------------------------- 3.7/11.0 MB 3.1 MB/s eta 0:00:03\n",
      "   ---------------- ----------------------- 4.5/11.0 MB 3.1 MB/s eta 0:00:03\n",
      "   ------------------- -------------------- 5.2/11.0 MB 3.2 MB/s eta 0:00:02\n",
      "   --------------------- ------------------ 5.8/11.0 MB 3.2 MB/s eta 0:00:02\n",
      "   ----------------------- ---------------- 6.6/11.0 MB 3.1 MB/s eta 0:00:02\n",
      "   ------------------------- -------------- 7.1/11.0 MB 3.1 MB/s eta 0:00:02\n",
      "   ---------------------------- ----------- 7.9/11.0 MB 3.2 MB/s eta 0:00:01\n",
      "   ------------------------------- -------- 8.7/11.0 MB 3.2 MB/s eta 0:00:01\n",
      "   --------------------------------- ------ 9.2/11.0 MB 3.2 MB/s eta 0:00:01\n",
      "   ------------------------------------ --- 10.0/11.0 MB 3.2 MB/s eta 0:00:01\n",
      "   ------------------------------------- -- 10.2/11.0 MB 3.1 MB/s eta 0:00:01\n",
      "   ---------------------------------------  10.7/11.0 MB 3.1 MB/s eta 0:00:01\n",
      "   ---------------------------------------- 11.0/11.0 MB 3.0 MB/s eta 0:00:00\n",
      "Downloading seaborn-0.13.2-py3-none-any.whl (294 kB)\n",
      "Downloading joblib-1.4.2-py3-none-any.whl (301 kB)\n",
      "Downloading scipy-1.14.1-cp313-cp313-win_amd64.whl (44.5 MB)\n",
      "   ---------------------------------------- 0.0/44.5 MB ? eta -:--:--\n",
      "   ---------------------------------------- 0.5/44.5 MB 3.7 MB/s eta 0:00:12\n",
      "   - -------------------------------------- 1.3/44.5 MB 3.5 MB/s eta 0:00:13\n",
      "   - -------------------------------------- 2.1/44.5 MB 3.5 MB/s eta 0:00:13\n",
      "   -- ------------------------------------- 2.6/44.5 MB 3.4 MB/s eta 0:00:13\n",
      "   --- ------------------------------------ 3.4/44.5 MB 3.4 MB/s eta 0:00:12\n",
      "   --- ------------------------------------ 4.2/44.5 MB 3.5 MB/s eta 0:00:12\n",
      "   ---- ----------------------------------- 5.0/44.5 MB 3.4 MB/s eta 0:00:12\n",
      "   ---- ----------------------------------- 5.5/44.5 MB 3.4 MB/s eta 0:00:12\n",
      "   ----- ---------------------------------- 6.3/44.5 MB 3.4 MB/s eta 0:00:12\n",
      "   ------ --------------------------------- 7.1/44.5 MB 3.4 MB/s eta 0:00:12\n",
      "   ------ --------------------------------- 7.6/44.5 MB 3.4 MB/s eta 0:00:11\n",
      "   ------- -------------------------------- 8.4/44.5 MB 3.4 MB/s eta 0:00:11\n",
      "   -------- ------------------------------- 9.2/44.5 MB 3.4 MB/s eta 0:00:11\n",
      "   -------- ------------------------------- 9.7/44.5 MB 3.4 MB/s eta 0:00:11\n",
      "   --------- ------------------------------ 10.5/44.5 MB 3.4 MB/s eta 0:00:11\n",
      "   ---------- ----------------------------- 11.3/44.5 MB 3.4 MB/s eta 0:00:10\n",
      "   ---------- ----------------------------- 12.1/44.5 MB 3.4 MB/s eta 0:00:10\n",
      "   ----------- ---------------------------- 12.8/44.5 MB 3.4 MB/s eta 0:00:10\n",
      "   ------------ --------------------------- 13.4/44.5 MB 3.4 MB/s eta 0:00:10\n",
      "   ------------ --------------------------- 14.2/44.5 MB 3.4 MB/s eta 0:00:09\n",
      "   ------------- -------------------------- 14.9/44.5 MB 3.4 MB/s eta 0:00:09\n",
      "   ------------- -------------------------- 15.5/44.5 MB 3.4 MB/s eta 0:00:09\n",
      "   -------------- ------------------------- 16.3/44.5 MB 3.4 MB/s eta 0:00:09\n",
      "   --------------- ------------------------ 16.8/44.5 MB 3.4 MB/s eta 0:00:09\n",
      "   --------------- ------------------------ 17.6/44.5 MB 3.4 MB/s eta 0:00:09\n",
      "   ---------------- ----------------------- 18.4/44.5 MB 3.4 MB/s eta 0:00:08\n",
      "   ----------------- ---------------------- 19.1/44.5 MB 3.4 MB/s eta 0:00:08\n",
      "   ----------------- ---------------------- 19.9/44.5 MB 3.4 MB/s eta 0:00:08\n",
      "   ------------------ --------------------- 20.7/44.5 MB 3.4 MB/s eta 0:00:08\n",
      "   ------------------- -------------------- 21.5/44.5 MB 3.4 MB/s eta 0:00:07\n",
      "   -------------------- ------------------- 22.3/44.5 MB 3.4 MB/s eta 0:00:07\n",
      "   -------------------- ------------------- 22.8/44.5 MB 3.4 MB/s eta 0:00:07\n",
      "   -------------------- ------------------- 23.3/44.5 MB 3.4 MB/s eta 0:00:07\n",
      "   --------------------- ------------------ 24.1/44.5 MB 3.4 MB/s eta 0:00:07\n",
      "   ---------------------- ----------------- 24.9/44.5 MB 3.4 MB/s eta 0:00:06\n",
      "   ---------------------- ----------------- 25.4/44.5 MB 3.4 MB/s eta 0:00:06\n",
      "   ----------------------- ---------------- 26.2/44.5 MB 3.4 MB/s eta 0:00:06\n",
      "   ------------------------ --------------- 27.0/44.5 MB 3.4 MB/s eta 0:00:06\n",
      "   ------------------------ --------------- 27.5/44.5 MB 3.4 MB/s eta 0:00:06\n",
      "   ------------------------- -------------- 28.3/44.5 MB 3.4 MB/s eta 0:00:05\n",
      "   ------------------------- -------------- 28.8/44.5 MB 3.4 MB/s eta 0:00:05\n",
      "   -------------------------- ------------- 29.6/44.5 MB 3.4 MB/s eta 0:00:05\n",
      "   --------------------------- ------------ 30.4/44.5 MB 3.4 MB/s eta 0:00:05\n",
      "   ---------------------------- ----------- 31.2/44.5 MB 3.4 MB/s eta 0:00:04\n",
      "   ---------------------------- ----------- 31.7/44.5 MB 3.4 MB/s eta 0:00:04\n",
      "   ----------------------------- ---------- 32.2/44.5 MB 3.4 MB/s eta 0:00:04\n",
      "   ----------------------------- ---------- 33.0/44.5 MB 3.4 MB/s eta 0:00:04\n",
      "   ------------------------------ --------- 33.8/44.5 MB 3.4 MB/s eta 0:00:04\n",
      "   ------------------------------ --------- 34.3/44.5 MB 3.4 MB/s eta 0:00:04\n",
      "   ------------------------------- -------- 35.1/44.5 MB 3.4 MB/s eta 0:00:03\n",
      "   -------------------------------- ------- 35.7/44.5 MB 3.3 MB/s eta 0:00:03\n",
      "   -------------------------------- ------- 36.2/44.5 MB 3.3 MB/s eta 0:00:03\n",
      "   --------------------------------- ------ 37.0/44.5 MB 3.3 MB/s eta 0:00:03\n",
      "   --------------------------------- ------ 37.7/44.5 MB 3.3 MB/s eta 0:00:03\n",
      "   ---------------------------------- ----- 38.3/44.5 MB 3.3 MB/s eta 0:00:02\n",
      "   ----------------------------------- ---- 39.1/44.5 MB 3.3 MB/s eta 0:00:02\n",
      "   ----------------------------------- ---- 39.8/44.5 MB 3.3 MB/s eta 0:00:02\n",
      "   ------------------------------------ --- 40.4/44.5 MB 3.3 MB/s eta 0:00:02\n",
      "   ------------------------------------- -- 41.2/44.5 MB 3.3 MB/s eta 0:00:01\n",
      "   ------------------------------------- -- 41.9/44.5 MB 3.3 MB/s eta 0:00:01\n",
      "   -------------------------------------- - 42.7/44.5 MB 3.3 MB/s eta 0:00:01\n",
      "   -------------------------------------- - 43.3/44.5 MB 3.3 MB/s eta 0:00:01\n",
      "   ---------------------------------------  44.0/44.5 MB 3.3 MB/s eta 0:00:01\n",
      "   ---------------------------------------  44.3/44.5 MB 3.3 MB/s eta 0:00:01\n",
      "   ---------------------------------------- 44.5/44.5 MB 3.3 MB/s eta 0:00:00\n",
      "Downloading threadpoolctl-3.5.0-py3-none-any.whl (18 kB)\n",
      "Installing collected packages: threadpoolctl, scipy, joblib, scikit-learn, seaborn\n",
      "Successfully installed joblib-1.4.2 scikit-learn-1.5.2 scipy-1.14.1 seaborn-0.13.2 threadpoolctl-3.5.0\n",
      "Note: you may need to restart the kernel to use updated packages.\n"
     ]
    },
    {
     "name": "stderr",
     "output_type": "stream",
     "text": [
      "\n",
      "[notice] A new release of pip is available: 24.2 -> 24.3.1\n",
      "[notice] To update, run: python.exe -m pip install --upgrade pip\n"
     ]
    }
   ],
   "source": [
    "pip install scikit-learn seaborn matplotlib"
   ]
  },
  {
   "cell_type": "code",
   "execution_count": null,
   "metadata": {},
   "outputs": [
    {
     "ename": "ModuleNotFoundError",
     "evalue": "No module named 'KMeans'",
     "output_type": "error",
     "traceback": [
      "\u001b[1;31m---------------------------------------------------------------------------\u001b[0m",
      "\u001b[1;31mModuleNotFoundError\u001b[0m                       Traceback (most recent call last)",
      "Cell \u001b[1;32mIn[6], line 1\u001b[0m\n\u001b[1;32m----> 1\u001b[0m \u001b[38;5;28;01mimport\u001b[39;00m \u001b[38;5;21;01mKMeans\u001b[39;00m\n\u001b[0;32m      2\u001b[0m \u001b[38;5;28;01mimport\u001b[39;00m \u001b[38;5;21;01mseaborn\u001b[39;00m \u001b[38;5;28;01mas\u001b[39;00m \u001b[38;5;21;01msns\u001b[39;00m\n\u001b[0;32m      3\u001b[0m \u001b[38;5;28;01mimport\u001b[39;00m \u001b[38;5;21;01mmatplotlib\u001b[39;00m \u001b[38;5;28;01mas\u001b[39;00m \u001b[38;5;21;01mplt\u001b[39;00m\n",
      "\u001b[1;31mModuleNotFoundError\u001b[0m: No module named 'KMeans'"
     ]
    }
   ],
   "source": [
    "from sklearn.cluster import KMeans  # Corrigir a importação\n",
    "from sklearn.metrics import confusion_matrix\n",
    "import seaborn as sns\n",
    "import matplotlib.pyplot as plt\n",
    "\n",
    "# Aplicar o modelo K-means\n",
    "\n",
    "kmeans = KMeans(n_clusters=3, random_state=42)  # 3 grupos (igual ao número de classes)\n",
    "kmeans.fit(X)\n",
    "\n",
    "# Resultados\n",
    "print(\"Centroides dos clusters:\\n\", kmeans.cluster_centers_)\n",
    "print(\"Rótulos previstos pelo K-means:\", kmeans.labels_)\n",
    "\n",
    "# Comparar com as classes verdadeiras (apenas para análise, já que K-means é não supervisionado)\n",
    "conf_matrix = confusion_matrix(y, kmeans.labels_)\n",
    "sns.heatmap(conf_matrix, annot=True, fmt=\"d\", cmap=\"Blues\")\n",
    "plt.title(\"Matriz de Confusão - K-means vs Classes Reais\")\n",
    "plt.show()"
   ]
  }
 ],
 "metadata": {
  "kernelspec": {
   "display_name": "Python 3",
   "language": "python",
   "name": "python3"
  },
  "language_info": {
   "codemirror_mode": {
    "name": "ipython",
    "version": 3
   },
   "file_extension": ".py",
   "mimetype": "text/x-python",
   "name": "python",
   "nbconvert_exporter": "python",
   "pygments_lexer": "ipython3",
   "version": "3.13.0"
  }
 },
 "nbformat": 4,
 "nbformat_minor": 2
}
